{
  "nbformat": 4,
  "nbformat_minor": 0,
  "metadata": {
    "colab": {
      "provenance": [],
      "include_colab_link": true
    },
    "kernelspec": {
      "name": "python3",
      "display_name": "Python 3"
    },
    "language_info": {
      "name": "python"
    }
  },
  "cells": [
    {
      "cell_type": "markdown",
      "metadata": {
        "id": "view-in-github",
        "colab_type": "text"
      },
      "source": [
        "<a href=\"https://colab.research.google.com/github/GuerrSim96/Molecular_Dynamics_Simulation_with_Trifluoroethanol/blob/main/GROMACS_installation.ipynb\" target=\"_parent\"><img src=\"https://colab.research.google.com/assets/colab-badge.svg\" alt=\"Open In Colab\"/></a>"
      ]
    },
    {
      "cell_type": "code",
      "execution_count": null,
      "metadata": {
        "id": "hEgG_o8_yGqG"
      },
      "outputs": [],
      "source": [
        "#Scaricare GROMACS 2023\n",
        "!wget http://ftp.gromacs.org/pub/gromacs/gromacs-2023.tar.gz"
      ]
    },
    {
      "cell_type": "code",
      "source": [
        "#Estrarre ed installare GROMACS 2023 (%%bash permette di passare alla shell)\n",
        "%%bash\n",
        "#Estrazione dei file contenenti nella cartella GROMACS-2023\n",
        "tar xfz gromacs-2023.tar.gz\n",
        "echo \"Estrazione di GROMACS completata!!!\" #serve per riportare la stinga come output (come la funzione print()))\n",
        "# Poi creiamo una cartella di compilazione nella cartella estratta\n",
        "cd gromacs-2023 #Accsso alla directory /gromacs-2023\n",
        "mkdir build     #Creazione della cartella /build"
      ],
      "metadata": {
        "id": "vWO1VDMryWe8"
      },
      "execution_count": null,
      "outputs": []
    },
    {
      "cell_type": "code",
      "source": [
        "%%bash\n",
        "cd gromacs-2023\n",
        "#Setup delle opzioni di installazione di GROMACS-2023, includendo GPU e una cartella specifica per l'utente\n",
        "cd build\n",
        "cmake .. -DGMX_GPU=CUDA -DGMX_BUILD_OWN_FFTW=ON -DCMAKE_INSTALL_PREFIX=/content/gromacs-2023\n",
        "echo \"Configurazione di GROMACS completata!!!\""
      ],
      "metadata": {
        "id": "P7fdBrSUzgZx"
      },
      "execution_count": null,
      "outputs": []
    },
    {
      "cell_type": "code",
      "source": [
        "%%bash\n",
        "cd gromacs-2023/build\n",
        "make\n",
        "echo \"Costruzione di GROMACS completata!!!\""
      ],
      "metadata": {
        "id": "dJhQAUl3B4wZ"
      },
      "execution_count": null,
      "outputs": []
    },
    {
      "cell_type": "code",
      "source": [
        "%%bash\n",
        "cd gromacs-2023/build\n",
        "make check\n",
        "echo \"GROMACS testing completed\""
      ],
      "metadata": {
        "id": "dgQ3qhVZ-lxz"
      },
      "execution_count": null,
      "outputs": []
    },
    {
      "cell_type": "code",
      "source": [
        "%%bash\n",
        "cd gromacs-2023/build\n",
        "make install\n",
        "echo \"GROMACS installation completed. Please check if any errors occurred during installation\""
      ],
      "metadata": {
        "id": "1wWH21UiAsET"
      },
      "execution_count": null,
      "outputs": []
    },
    {
      "cell_type": "code",
      "source": [
        "#Al fine di verificare che GROMACS sia stato installato con successo\n",
        "%%bash\n",
        "source /content/gromacs-2023/bin/GMXRC\n",
        "gmx -h"
      ],
      "metadata": {
        "id": "0zDbvzDWFtOJ"
      },
      "execution_count": null,
      "outputs": []
    },
    {
      "cell_type": "code",
      "source": [
        "import requests\n",
        "#Scaricare file da github\n",
        "url_1='https://raw.githubusercontent.com/GuerrSim96/DM_NMR_tfe/main/file/'\n",
        "down_file=['trifluoroethanol.itp','tip3p_added.itp','ffbonded.itp','ffnonbonded.itp','atomtypes.atp','residuetypes.dat', 'trifluoroethanol.pdb', 'tip3p_added.pdb']\n",
        "for df in down_file:\n",
        "  url= url_1+df\n",
        "  risp = requests.get(url, allow_redirects=True)\n",
        "  risp.raise_for_status()\n",
        "  with open(f'/content/{df}', 'wb') as file:\n",
        "        file.write(risp.content)\n",
        "  print(f'Download di {df} completato con successo!')"
      ],
      "metadata": {
        "id": "_GiLpCd__mgS"
      },
      "execution_count": null,
      "outputs": []
    },
    {
      "cell_type": "code",
      "source": [
        "import os\n",
        "path_1, path_end= '/content/gromacs-2023/share/', 'top/oplsaa.ff/'\n",
        "d_top, d_gmx_ff, d_ff= [f'{path_1}top/', f'{path_1}/gromacs/top/'], f'{path_1}gromacs/{path_end}', path_1 + path_end\n",
        "f_itp_add, f_itp_rep, f_dat= 'trifouoroethanol.itp',['ffbonded.itp','ffnonbonded.itp','atomtypes.atp'],'residuetypes.dat'\n",
        "for ff in f_itp_rep:\n",
        "  os.replace(f'/content/{ff}',f'{d_gmx_ff}{ff}')\n",
        "  os.replace(f'/content/{ff}',f'{d_ff}{ff}')\n",
        "for dir in d_top:\n",
        "  os.replace(f'/content/{f_dat}',f'{dir}{f_dat}')\n",
        "os.rename(f'/content/{f_itp_add}',f'{d_gmx_ff}{f_itp_add}')\n",
        "os.rename(f'/content/{f_itp_add}',f'{d_ff}{f_itp_add}')"
      ],
      "metadata": {
        "id": "kHcMoNSo9smM"
      },
      "execution_count": null,
      "outputs": []
    },
    {
      "cell_type": "code",
      "source": [
        "#Montare il Drive di Google per poter traferire i file\n",
        "from google.colab import drive\n",
        "drive.mount('/content/drive')"
      ],
      "metadata": {
        "id": "VJxVnNmeYCu4"
      },
      "execution_count": null,
      "outputs": []
    },
    {
      "cell_type": "code",
      "source": [
        "#Copiare GROMACS compilato nel Drive\n",
        "#Creare la cartella GROMACS_SG in Drive  per poter copiare il programma all'interno di esso.\n",
        "import shutil\n",
        "from pathlib import Path\n",
        "GROMACS_SG = Path('/content/drive/My Drive/GROMACS_SG/') #Cartella GROMACS_SG\n",
        "if os.path.exists(GROMACS_SG):\n",
        "  print('GROMACS_SG already exists')\n",
        "if not os.path.exists(GROMACS_SG):\n",
        "  os.mkdir(GROMACS_SG)\n",
        "  print('GROMACS_SG did not exists and was succesfully created')"
      ],
      "metadata": {
        "id": "m_5EtVmjYRYl"
      },
      "execution_count": null,
      "outputs": []
    },
    {
      "cell_type": "code",
      "source": [
        "#Then, we will copy the compiled GROMACS to this folder\n",
        "shutil.copytree(str('/content/gromacs-2023'), str(GROMACS_SG/'gromacs-2023'))\n",
        "#!cp -d -r /content/gromacs-2023 \"$GROMACS_SG\"/gromacs-2023\n",
        "print('GROMACS successfully backed up!')"
      ],
      "metadata": {
        "id": "GUuB3_PqQSeB"
      },
      "execution_count": null,
      "outputs": []
    },
    {
      "cell_type": "code",
      "source": [
        "path_solvs, path_bu='/content/drive/MyDrive/md_files/input/', '/content/drive/My Drive/GROMACS_SG/other_file/'\n",
        "os.mkdir(path_solvs)\n",
        "os.mkdir(path_bu)\n",
        "all_f=os.listdir('/content/')\n",
        "for f_mod in all_f:\n",
        "  if f_mod not in path_solvs:\n",
        "    shutil.copy('/content', path_bu+f_mod)  # Copy a file\n",
        "    print(f'-The file \\\"{f_mod}\\\" has been moved successfully')\n",
        "  else:\n",
        "    print(f'-The file \\\"{f_mod}\\\" is already in /content')\n",
        "solvs=['trifluoroethanol.pdb', 'tip3p_added.pdb']\n",
        "for sol in solvs:\n",
        "  if sol not in path_solvs:\n",
        "    shutil.copy('/content', path_solvs+sol)  # Copy a file\n",
        "    print(f'-The file \\\"{sol}\\\" has been moved successfully')\n",
        "  else:\n",
        "    print(f'-The file \\\"{sol}\\\" is already in /content')"
      ],
      "metadata": {
        "id": "noUFf1itVeFo"
      },
      "execution_count": null,
      "outputs": []
    },
    {
      "cell_type": "code",
      "source": [
        "# Give everyone all permission\n",
        "path_bin='/content/drive/MyDrive/GROMACS_SG/gromacs-2023/bin/'\n",
        "for root, directories, files in os.walk(path_bin):\n",
        "    for dir in directories:\n",
        "        os.chmod(os.path.join(root, dir), 0o777)\n",
        "        print(f'-The {dir} permission is cahnged')\n",
        "    for f in files:\n",
        "        os.chmod(os.path.join(root, f), 0o777)\n",
        "        print(f'-The {f} permission is cahnged')"
      ],
      "metadata": {
        "id": "cKZLqw0z70s5"
      },
      "execution_count": null,
      "outputs": []
    }
  ]
}