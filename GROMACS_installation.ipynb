{
  "nbformat": 4,
  "nbformat_minor": 0,
  "metadata": {
    "colab": {
      "provenance": [],
      "include_colab_link": true
    },
    "kernelspec": {
      "name": "python3",
      "display_name": "Python 3"
    },
    "language_info": {
      "name": "python"
    }
  },
  "cells": [
    {
      "cell_type": "markdown",
      "metadata": {
        "id": "view-in-github",
        "colab_type": "text"
      },
      "source": [
        "<a href=\"https://colab.research.google.com/github/GuerrSim96/Molecular_Dynamics_Simulation_with_Trifluoroethanol/blob/main/GROMACS_installation.ipynb\" target=\"_parent\"><img src=\"https://colab.research.google.com/assets/colab-badge.svg\" alt=\"Open In Colab\"/></a>"
      ]
    },
    {
      "cell_type": "code",
      "execution_count": null,
      "metadata": {
        "id": "hEgG_o8_yGqG"
      },
      "outputs": [],
      "source": [
        "#Download GROMACS 2023\n",
        "!wget http://ftp.gromacs.org/pub/gromacs/gromacs-2023.tar.gz"
      ]
    },
    {
      "cell_type": "code",
      "source": [
        "#Unzip and install GROMACS 2023 (%%bash allows you to swich to the shell)\n",
        "%%bash\n",
        "#Unzip the files conteined in the GROMACS-2023 folder\n",
        "tar xfz gromacs-2023.tar.gz\n",
        "echo \"GROMACS unzipping completed!\"\n",
        "#Let's create a build folder in the extracted folder\n",
        "cd gromacs-2023\n",
        "mkdir build     #folder creation"
      ],
      "metadata": {
        "id": "vWO1VDMryWe8"
      },
      "execution_count": null,
      "outputs": []
    },
    {
      "cell_type": "code",
      "source": [
        "%%bash\n",
        "cd gromacs-2023\n",
        "#Setup of GROMACS-2023 installation options, including GPU and a user-specific folder\n",
        "cd build\n",
        "cmake .. -DGMX_GPU=CUDA -DGMX_BUILD_OWN_FFTW=ON -DCMAKE_INSTALL_PREFIX=/content/gromacs-2023\n",
        "echo \"GROMACS configuration complete!\""
      ],
      "metadata": {
        "id": "P7fdBrSUzgZx"
      },
      "execution_count": null,
      "outputs": []
    },
    {
      "cell_type": "code",
      "source": [
        "%%bash\n",
        "cd gromacs-2023/build\n",
        "make\n",
        "echo \"GROMACS construction completed!\""
      ],
      "metadata": {
        "id": "dJhQAUl3B4wZ"
      },
      "execution_count": null,
      "outputs": []
    },
    {
      "cell_type": "code",
      "source": [
        "%%bash\n",
        "cd gromacs-2023/build\n",
        "make check\n",
        "echo \"GROMACS testing completed\""
      ],
      "metadata": {
        "id": "dgQ3qhVZ-lxz"
      },
      "execution_count": null,
      "outputs": []
    },
    {
      "cell_type": "code",
      "source": [
        "%%bash\n",
        "cd gromacs-2023/build\n",
        "make install\n",
        "echo \"GROMACS installation completed. Please check if any errors occurred during installation\""
      ],
      "metadata": {
        "id": "1wWH21UiAsET"
      },
      "execution_count": null,
      "outputs": []
    },
    {
      "cell_type": "code",
      "source": [
        "import requests\n",
        "#Download files from GitHub\n",
        "url_1='https://raw.githubusercontent.com/GuerrSim96/MDS-pVT/main/file/'\n",
        "url_2='https://raw.githubusercontent.com/GuerrSim96/MDS-pVT/main/mdp/'\n",
        "down_file=['trifluoroethanol.itp','ffbonded.itp','ffnonbonded.itp','atomtypes.atp','residuetypes.dat','trifluoroethanol.pdb','tip3p_added.pdb']\n",
        "down_mdp=['ions.mdp','minim.mdp','nvt.mdp','npt.mdp','md.mdp']\n",
        "for df in down_file:\n",
        "  url= url_1+df\n",
        "  risp = requests.get(url, allow_redirects=True)\n",
        "  risp.raise_for_status()\n",
        "  with open(f'/content/{df}', 'wb') as file:\n",
        "        file.write(risp.content)\n",
        "  print(f'{df} download completed successfully!')\n",
        "for dm in down_mdp:\n",
        "  url= url_2+dm\n",
        "  risp = requests.get(url, allow_redirects=True)\n",
        "  risp.raise_for_status()\n",
        "  with open(f'/content/{dm}', 'wb') as file:\n",
        "        file.write(risp.content)\n",
        "  print(f'{dm} download completed successfully!')"
      ],
      "metadata": {
        "id": "_GiLpCd__mgS"
      },
      "execution_count": null,
      "outputs": []
    },
    {
      "cell_type": "code",
      "source": [
        "import shutil\n",
        "path_1, path_end= '/content/gromacs-2023/share/', 'top/oplsaa.ff/'\n",
        "d_top, d_gmx_ff, d_ff= [f'{path_1}top/', f'{path_1}/gromacs/top/'], f'{path_1}gromacs/{path_end}', path_1 + path_end\n",
        "f_itp_add, f_itp_rep, f_dat= 'trifluoroethanol.itp',['ffbonded.itp','ffnonbonded.itp','atomtypes.atp'],'residuetypes.dat'\n",
        "for ff in f_itp_rep:\n",
        "  shutil.copyfile(f'/content/{ff}',f'{d_gmx_ff}{ff}')\n",
        "  shutil.copyfile(f'/content/{ff}',f'{d_ff}{ff}')\n",
        "for dir in d_top:\n",
        "  shutil.copyfile(f'/content/{f_dat}',f'{dir}{f_dat}')\n",
        "shutil.copy2(f'/content/{f_itp_add}',f'{d_gmx_ff}')\n",
        "shutil.copy2(f'/content/{f_itp_add}',f'{d_ff}')"
      ],
      "metadata": {
        "id": "kHcMoNSo9smM"
      },
      "execution_count": null,
      "outputs": []
    },
    {
      "cell_type": "code",
      "source": [
        "#Mount Google Drive to transfer files\n",
        "from google.colab import drive\n",
        "drive.mount('/content/drive')"
      ],
      "metadata": {
        "id": "VJxVnNmeYCu4"
      },
      "execution_count": null,
      "outputs": []
    },
    {
      "cell_type": "code",
      "source": [
        "#Copy the compiled GROMACS to the Drive\n",
        "#Create the MDS-pVT folder in Drive to be able to copy the program into it\n",
        "import os\n",
        "from pathlib import Path\n",
        "MDS_pVT = Path('/content/drive/MyDrive/MDS-pVT/') #Cartella MDS-pVT\n",
        "if os.path.exists(MDS-pVT):\n",
        "  print('MDS-pVT already exists')\n",
        "if not os.path.exists(MDS-pVT):\n",
        "  os.mkdir(MDS-pVT)\n",
        "  print('MDS-pVT did not exists and was succesfully created')"
      ],
      "metadata": {
        "id": "m_5EtVmjYRYl"
      },
      "execution_count": null,
      "outputs": []
    },
    {
      "cell_type": "code",
      "source": [
        "#Then, we will copy the compiled GROMACS to this folder\n",
        "shutil.copytree(str('/content/gromacs-2023'), str(f'{MDS_pVT}gromacs-2023'))\n",
        "print('GROMACS successfully backed up!')"
      ],
      "metadata": {
        "id": "GUuB3_PqQSeB"
      },
      "execution_count": null,
      "outputs": []
    },
    {
      "cell_type": "code",
      "source": [
        "path_md_f, path_solvs= '/content/drive/MyDrive/MDS-pVT/md_files/', '/content/drive/MyDrive/MDS-pVT/md_files/input/'\n",
        "if os.path.exists(path_md_f):\n",
        "  print('MDS-pVT/md_files/ already exists')\n",
        "if not os.path.exists(path_md_f):\n",
        "  os.mkdir(path_md_f)\n",
        "  print('MDS-pVT/md_files/ did not exists and was succesfully created')\n",
        "if os.path.exists(path_solvs):\n",
        "  print('MDS-pVT/md_files/input/ already exists')\n",
        "if not os.path.exists(path_solvs):\n",
        "  os.mkdir(path_solvs)\n",
        "  print('MDS-pVT/md_files/input/ did not exists and was succesfully created')\n",
        "path_mdp, path_bu= '/content/drive/MyDrive/MDS-pVT/md_files/mdp/', '/content/drive/MyDrive/MDS-pVT/other_file/'\n",
        "if os.path.exists(path_mdp):\n",
        "  print('MDS-pVT/md_files/mdp/ already exists')\n",
        "if not os.path.exists(path_mdp):\n",
        "  os.mkdir(path_mdp)\n",
        "  print('MDS-pVT/md_files/mdp/ did not exists and was succesfully created')\n",
        "if os.path.exists(path_bu):\n",
        "  print('MDS-pVT/other_file/ already exists')\n",
        "if not os.path.exists(path_bu):\n",
        "  os.mkdir(path_bu)\n",
        "  print('MDS-pVT/other_file/ did not exists and was succesfully created')\n",
        "all_f= os.listdir('/content/')\n",
        "for f_mod in all_f:\n",
        "  if os.path.isfile(f'content/{f_mod}'):\n",
        "    if f_mod not in path_solvs:\n",
        "      shutil.copy(f'/content/{f_mod}', path_bu+f_mod)  # Copy a file\n",
        "      print(f'-The file \\\"{f_mod}\\\" has been moved successfully')\n",
        "    else:\n",
        "      print(f'-The file \\\"{f_mod}\\\" is already in /content')\n",
        "solvs= ['trifluoroethanol.pdb', 'tip3p_added.pdb']\n",
        "for sol in solvs:\n",
        "  if sol not in path_solvs:\n",
        "    shutil.copy(f'/content/{sol}', path_solvs+sol)  # Copy a file\n",
        "    print(f'-The file \\\"{sol}\\\" has been moved successfully')\n",
        "  else:\n",
        "    print(f'-The file \\\"{sol}\\\" is already in /content')\n",
        "for mdp in down_mdp:\n",
        "  if mdp not in path_mdp:\n",
        "    shutil.copy(f'/content/{mdp}', path_mdp+mdp)  # Copy a file\n",
        "    print(f'-The file \\\"{mdp}\\\" has been moved successfully')\n",
        "  else:\n",
        "    print(f'-The file \\\"{mdp}\\\" is already in /content')"
      ],
      "metadata": {
        "id": "noUFf1itVeFo"
      },
      "execution_count": null,
      "outputs": []
    },
    {
      "cell_type": "code",
      "source": [
        "# Give everyone all permission\n",
        "path_bin='/content/drive/MyDrive/MDS-pVT/gromacs-2023/bin/'\n",
        "for root, directories, files in os.walk(path_bin):\n",
        "    for dir in directories:\n",
        "        os.chmod(os.path.join(root, dir), 0o777)\n",
        "        print(f'-The {dir} permission is cahnged')\n",
        "    for f in files:\n",
        "        os.chmod(os.path.join(root, f), 0o777)\n",
        "        print(f'-The {f} permission is cahnged')"
      ],
      "metadata": {
        "id": "cKZLqw0z70s5"
      },
      "execution_count": null,
      "outputs": []
    }
  ]
}
