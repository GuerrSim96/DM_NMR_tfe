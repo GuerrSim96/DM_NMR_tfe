{
  "nbformat": 4,
  "nbformat_minor": 0,
  "metadata": {
    "colab": {
      "private_outputs": true,
      "provenance": [],
      "gpuType": "T4",
      "include_colab_link": true
    },
    "kernelspec": {
      "name": "python3",
      "display_name": "Python 3"
    },
    "language_info": {
      "name": "python"
    }
  },
  "cells": [
    {
      "cell_type": "markdown",
      "metadata": {
        "id": "view-in-github",
        "colab_type": "text"
      },
      "source": [
        "<a href=\"https://colab.research.google.com/github/GuerrSim96/Molecular_Dynamics_Simulation_with_Trifluoroethanol/blob/main/trajectory_analysis.ipynb\" target=\"_parent\"><img src=\"https://colab.research.google.com/assets/colab-badge.svg\" alt=\"Open In Colab\"/></a>"
      ]
    },
    {
      "cell_type": "code",
      "source": [
        "#@title ##### Install and Import\n",
        "!pip install MDAnalysis --quiet\n",
        "import MDAnalysis as mda\n",
        "from MDAnalysis.analysis import distances, diffusionmap, align\n",
        "import os\n",
        "import random\n",
        "import shutil as sh\n",
        "import pandas as pd\n",
        "import numpy as np\n",
        "import matplotlib.pyplot as plt\n",
        "import matplotlib.colors as mcolors\n",
        "from matplotlib.colors import LinearSegmentedColormap\n",
        "from scipy.signal import savgol_filter #Smoothing using Savitzky-Golay\n",
        "print('all the packages have been imported! ;)')"
      ],
      "metadata": {
        "id": "nVnzNJYyiZVt"
      },
      "execution_count": null,
      "outputs": []
    },
    {
      "cell_type": "code",
      "execution_count": null,
      "metadata": {
        "id": "iY5gkK-q-4VQ"
      },
      "outputs": [],
      "source": [
        "#@title ##### Mount the Drive\n",
        "#@markdown # Click the last output URL\n",
        "!sudo add-apt-repository -y ppa:alessandro-strada/ppa 2>&1 > /dev/null\n",
        "!sudo apt-get update -qq 2>&1 > /dev/null\n",
        "!sudo apt -y install -qq google-drive-ocamlfuse 2>&1 > /dev/null\n",
        "!google-drive-ocamlfuse"
      ]
    },
    {
      "cell_type": "code",
      "source": [
        "!sudo apt-get install -qq w3m # to act as web browser\n",
        "!xdg-settings set default-web-browser w3m.desktop # to set default browser\n",
        "%cd /content\n",
        "!mkdir drive\n",
        "%cd drive\n",
        "!mkdir MyDrive\n",
        "%cd ..\n",
        "!google-drive-ocamlfuse /content/drive/MyDrive"
      ],
      "metadata": {
        "id": "RP3FzUJotb7O"
      },
      "execution_count": null,
      "outputs": []
    },
    {
      "cell_type": "code",
      "source": [
        "# Give everyone all permission\n",
        "path_bin='/content/drive/MyDrive/GROMACS_SG/gromacs-2023/bin/'\n",
        "for root, directories, files in os.walk(path_bin):\n",
        "    for dir in directories:\n",
        "        os.chmod(os.path.join(root, dir), 0o111)\n",
        "    for f in files:\n",
        "        os.chmod(os.path.join(root, f), 0o111)"
      ],
      "metadata": {
        "id": "0xKdphS_UlRp"
      },
      "execution_count": null,
      "outputs": []
    },
    {
      "cell_type": "code",
      "source": [
        "p='/content/drive/MyDrive/GROMACS_SG/md_files/'\n",
        "fp= os.listdir(p)\n",
        "print('List of former Molecular Dynamics:')\n",
        "for x in fp:\n",
        "  print(x)\n",
        "pdb_dir= input('select the structure from the list above :')\n",
        "p0=f'/content/drive/MyDrive/GROMACS_SG/md_files/{pdb_dir}/'\n",
        "fp0=os.listdir(p0)\n",
        "for y in fp0:\n",
        "  print(y)\n",
        "ff_dir= input('select the simulation from the list above :')\n",
        "p1=p0+f'{ff_dir}/'\n",
        "fp1=os.listdir(p1)\n",
        "for file in fp1:\n",
        "  if file.endswith('.tpr'):\n",
        "    if file.startswith('md'):\n",
        "      sh.copy(p1+file,'/content/')\n",
        "    print('-The file \\\"'+ file +'\\\" has been moved successfully')\n",
        "  elif file.endswith('protPBC.xtc'):\n",
        "    if file.startswith('md'):\n",
        "      sh.copy(p1+file,'/content/')\n",
        "    print('-The file \\\"'+ file +'\\\" has been moved successfully')\n",
        "  elif file.endswith('.edr'):\n",
        "    if file.startswith('md'):\n",
        "      sh.copy(p1+file,'/content/')\n",
        "    print('-The file \\\"'+ file +'\\\" has been moved successfully')\n",
        "  elif file.endswith('.gro'):\n",
        "    if file.startswith('md'):\n",
        "      sh.copy(p1+file,'/content/')\n",
        "    print('-The file \\\"'+ file +'\\\" has been moved successfully')"
      ],
      "metadata": {
        "id": "0dTsibwvL49d"
      },
      "execution_count": null,
      "outputs": []
    },
    {
      "cell_type": "code",
      "source": [
        "fc_1=os.listdir('/content')\n",
        "open('options','x') # Creating the options file\n",
        "for c in fc_1:\n",
        "  if c.endswith('.xtc'):\n",
        "    os.rename(c,'file.xtc')\n",
        "    print(c+' has been renamed')\n",
        "  elif c.endswith('.tpr'):\n",
        "    os.rename(c,'file.tpr')\n",
        "    print(c+' has been renamed')\n",
        "  elif c.endswith('.edr'):\n",
        "    os.rename(c,'md.edr')\n",
        "    print(c+' has been renamed')\n",
        "  elif c.endswith('.gro'):\n",
        "    os.rename(c,'file.gro')\n",
        "    print(c+' has been renamed')"
      ],
      "metadata": {
        "id": "aDTv2tZAoUw7"
      },
      "execution_count": null,
      "outputs": []
    },
    {
      "cell_type": "code",
      "source": [
        "def gmx(cmd):\n",
        "  '''To launch gmx process'''\n",
        "  process = subprocess.Popen(cmd, shell=True, executable='/bin/bash', stdout=subprocess.PIPE, stderr=subprocess.PIPE)\n",
        "  output, error = process.communicate()\n",
        "  print(f'Output: \\n{output.decode(\"utf-8\")} \\n\\nError: \\n{error.decode(\"utf-8\")}\\n\\n')"
      ],
      "metadata": {
        "id": "TkuNleQPD_Zb"
      },
      "execution_count": null,
      "outputs": []
    },
    {
      "cell_type": "code",
      "source": [
        "#@title # Energy\n",
        "with open('options','w') as file: # Overwrite \"options\" file\n",
        "  file.write('Potential \\n')\n",
        "# Energy of the structure during molecular dynamics\n",
        "gmx('gmx energy -f md.edr -o potential_md.xvg -xvg none < options')\n",
        "# Plot\n",
        "data_md = np.loadtxt('potential_md.xvg')\n",
        "yhat = savgol_filter(data_md[:,1], 21, 1)\n",
        "plt.title('Energy of MD Simulation')\n",
        "plt.xlabel('Time [ps]')\n",
        "plt.ylabel('Potential Energy [kJ/mol]')\n",
        "plt.plot(data_md[:,0], data_md[:,1], linestyle='solid', linewidth='0.5', color='black')\n",
        "plt.plot(data_md[:,0], yhat, linestyle='solid', linewidth='0.7', color='red')\n",
        "plt.savefig('potential_md.png', bbox_inches='tight')\n",
        "plt.show()"
      ],
      "metadata": {
        "id": "WA5Q014Nh2pO"
      },
      "execution_count": null,
      "outputs": []
    },
    {
      "cell_type": "code",
      "source": [
        "#@title # Compattezza e Flessibilità\n",
        "with open('options','w') as file: # Overwrite \"options\" file\n",
        "  file.write('Protein \\n')\n",
        "# Raggio d'inerzia\n",
        "gmx('gmx gyrate -s file.tpr -f file.xtc -o gyrate.xvg -xvg none < options')\n",
        "# SASA: compattezza\n",
        "gmx('gmx sasa -s file.tpr -f file.xtc -o sasa.xvg -tu ns -xvg none < options')\n",
        "# RMSF: per la flessibilità\n",
        "gmx('gmx rmsf -s file.tpr -f file.xtc -o rmsf.xvg -xvg none -res < options')\n",
        "# Plot\n",
        "# Raggio d'inerzia durante la dinamica molecolare\n",
        "data_gr = np.loadtxt('gyrate.xvg')\n",
        "yhat = savgol_filter(data_gr[:,1], 21, 1)\n",
        "plt.title('Radius of gyration')\n",
        "plt.xlabel('Time [ps]')\n",
        "plt.ylabel('Radius of gyration [nm]')\n",
        "plt.plot(data_gr[:,0], data_gr[:,1], linestyle='solid', linewidth='0.5', color='black') # gyrate nella prima colonna\n",
        "plt.plot(data_gr[:,0], yhat, linestyle='solid', linewidth='0.7', color='red')\n",
        "plt.savefig('gyrate.eps', format='eps', bbox_inches='tight')\n",
        "plt.show()\n",
        "# SASA\n",
        "sasa=np.loadtxt('sasa.xvg')\n",
        "yhat = savgol_filter(sasa[:,1], 21, 1)\n",
        "plt.title('Solvent Accessible Surface')\n",
        "plt.xlabel('Time [ns]')\n",
        "plt.ylabel('Area [nm$^{2}$]')\n",
        "plt.plot(sasa[:,0], sasa[:,1], linestyle='solid', linewidth='0.5', color='black')\n",
        "plt.plot(sasa[:,0], yhat, linestyle='solid', linewidth='0.7', color='red')\n",
        "plt.tight_layout()\n",
        "plt.savefig('sasa.eps', format='eps', bbox_inches='tight')\n",
        "plt.show()\n",
        "# RMSF\n",
        "rmsf=np.loadtxt('rmsf.xvg')\n",
        "plt.title('RMSF')\n",
        "plt.xlabel('Res')\n",
        "plt.ylabel('C-alpha RMSF [nm]')\n",
        "plt.plot(rmsf[:,0], rmsf[:,1], linestyle='solid', linewidth='0.7', color='black')\n",
        "plt.tight_layout()\n",
        "plt.savefig('rmsf.eps', format='eps', bbox_inches='tight')\n",
        "plt.show()"
      ],
      "metadata": {
        "id": "ZBGxAPfevYe-"
      },
      "execution_count": null,
      "outputs": []
    },
    {
      "cell_type": "code",
      "source": [
        "#@title # RMSD\n",
        "with open('options','w') as file:\n",
        "  file.write('Backbone \\n Backbone \\n')\n",
        "# RMSD: struttura minimizzata rispetto alla dinamica\n",
        "gmx('gmx rms -s file.tpr -f file.xtc -o rmsd.xvg -tu ns -xvg none < options')\n",
        "# Plot\n",
        "#rmsd\n",
        "rmsd_md=np.loadtxt('rmsd.xvg') #tra struttura minimizzata e dinamica\n",
        "yhat = savgol_filter(rmsd_md[:,1], 21, 1)\n",
        "plt.title('RMSD backbone')\n",
        "plt.xlabel('Time [ns]')\n",
        "plt.ylabel('RMSD [nm]')\n",
        "plt.plot(rmsd_md[:,0], rmsd_md[:,1], linestyle='solid', linewidth='0.7', color='black')\n",
        "plt.plot(rmsd_md[:,0], yhat, linestyle='solid', linewidth='0.9', color='red')\n",
        "plt.tight_layout()\n",
        "plt.savefig('rmsd.eps', format='eps', bbox_inches='tight')\n",
        "plt.show()\n",
        "#pairwise rmsd\n",
        "u = mda.Universe('/content/file.gro','/content/file.xtc')\n",
        "aligner= align.AlignTraj(u,u, select='name CA', in_memory=True).run()\n",
        "matrix= diffusionmap.DistanceMatrix(u, select='name CA').run()\n",
        "matrix.dist_matrix.shape\n",
        "plt.imshow(matrix.dist_matrix, cmap='viridis')\n",
        "plt.title('Pairwise RMSD')\n",
        "plt.xlabel('Frame', fontsize=12)\n",
        "plt.ylabel('Frame', fontsize=12)\n",
        "plt.colorbar(label='RMSD')\n",
        "plt.tight_layout()\n",
        "plt.savefig('pairwise_rmsd.eps', format='eps', bbox_inches='tight')\n",
        "plt.show()"
      ],
      "metadata": {
        "id": "aSvl752XnVZ2"
      },
      "execution_count": null,
      "outputs": []
    },
    {
      "cell_type": "code",
      "source": [
        "#@title # Matrice delle Distanze\n",
        "#@markdown La cella in questione non è ancora stata ottimizzata ne commentata a dovere\n",
        "frame_to_analyze= 10 #@param {type:\"slider\", min:10, max:5000, step:10}\n",
        "os.environ['FRAME']= frame_to_analyze\n",
        "with open('options','w') as file: # Overwrite \"options\" file\n",
        "  file.write('Protein \\n')\n",
        "gmx('gmx trjconv -s file.tpr -f file.xtc -o output.pdb -dump \"$FRAME\" < options') #flag -dump to select the frame\n",
        "\n",
        "u = mda.Universe('output.pdb')\n",
        "ca = u.select_atoms('name CA')\n",
        "n_ca = len(ca)\n",
        "if len(ca)==0:\n",
        "  print('There\\'s a problem')\n",
        "self_distances = distances.self_distance_array(ca.positions)\n",
        "\n",
        "sq_dist_arr = np.zeros((n_ca, n_ca))\n",
        "triu = np.triu_indices_from(sq_dist_arr, k=1)\n",
        "sq_dist_arr[triu] = self_distances\n",
        "sq_dist_arr.T[triu] = self_distances\n",
        "\n",
        "fig, ax = plt.subplots()\n",
        "im = ax.pcolor(ca.resids, ca.resids, sq_dist_arr)\n",
        "\n",
        "# plt.pcolor gives a rectangular grid by default\n",
        "# so we need to make our heatmap square\n",
        "ax.set_aspect('equal')\n",
        "\n",
        "# add figure labels and titles\n",
        "plt.ylabel('Residue IDs')\n",
        "plt.xlabel('Residue IDs')\n",
        "plt.title('Distance between alpha-carbons')\n",
        "\n",
        "# colorbar\n",
        "cbar = fig.colorbar(im)\n",
        "cbar.ax.set_ylabel('Distance (Angstrom)')"
      ],
      "metadata": {
        "id": "g-LvetEVlSNz"
      },
      "execution_count": null,
      "outputs": []
    },
    {
      "cell_type": "code",
      "source": [
        "#@title # DSSP\n",
        "gmx('gmx dssp -f file.xtc -s file.tpr -o dssp.dat -xvg none -hmode gromacs')\n",
        "# dssp\n",
        "row, leg_0, num_row= [], [], []\n",
        "num_dict={'~':'0', 'G':'1', 'H':'2', 'I':'3', 'T':'4', 'E':'5', 'B':'6', 'S':'7', 'C':'8', 'P':'9'} # Dictionary\n",
        "col_dict={'0':'gray', '1':'red', '2':'orange', '3':'yellow', '4':'pink', '5':'blue', '6':'cyan', '7':'purple', '8':'brown', '9':'brown'}\n",
        "with open('dssp.dat', 'r') as file: # open file output for obtein the information\n",
        "  for line in file:\n",
        "    x=list(line)\n",
        "    row.append(x) # list of the letter present in line\n",
        "for ss in row:\n",
        "  ss.remove('\\n') # remove the special character \"\\n\"\n",
        "for lst in row:\n",
        "  for e in lst:\n",
        "    leg_0.append(e) # Transformation of \"row\", which is a list of multiple list, in \"leg_0\" a simple list\n",
        "leg_1=set(leg_0)    # Using \"set()\" function you'll get all the characters thet are in a list\n",
        "leg_2=list(leg_1)   # Transforming the set in a list\n",
        "lst_n = list(range(len(leg_2))) # Get a list of colors long as the another list\n",
        "for sublist in row:\n",
        "  sublist_conv=[]\n",
        "  for l in sublist:                     # for the elements of the lists inside the major list \"row\"\n",
        "    sublist_conv.append(int(num_dict[l]))   # It allows to convert the elements in numbers thanks the association of the dictionary\n",
        "  num_row.append(sublist_conv)         # Recreate the major list converted which means that there are not characters but only numbers\n",
        "data=pd.DataFrame(num_row)\n",
        "colors= [col_dict[f'{value}'] for value in lst_n]\n",
        "cmap_c= LinearSegmentedColormap.from_list('custom_cmap', colors)\n",
        "# Text to use as a legend\n",
        "with open('legend_dssp','w') as file: # File for the legend of the plot\n",
        "  file.write('LEGEND: \\nG = 310-helix \\nH = Alpha-helix \\nI = Pi-helix \\nT = Turn \\nE = Beta-sheet \\nB = Beta-bridge \\nS = Bend \\nC or P = Coil \\n~ = Unknown or missing\\n')\n",
        "with open('legend_dssp', 'a') as file:\n",
        "  file.write('\\nCHAR TO COL: \\n')\n",
        "  for value in num_dict:\n",
        "    file.write(f'{value} = {col_dict[num_dict[value]]}\\n')\n",
        "with open('legend_dssp', 'r') as file:\n",
        "  legend = file.read() # Information about how to read the plot\n",
        "# plot of secondary structures\n",
        "fig = plt.figure(figsize=(50, 10))\n",
        "ax = fig.add_subplot(111)\n",
        "ax.set_title('Secondary Structure')\n",
        "data_array = np.transpose(data)\n",
        "im = ax.imshow(data_array, cmap= cmap_c, aspect='auto')\n",
        "ax.set_xticks(np.arange(data.shape[0]))\n",
        "ax.set_xticklabels(data.index, fontsize=0.1)\n",
        "ax.set_yticks(np.arange(data.shape[1]))\n",
        "ax.set_yticklabels(data.columns)\n",
        "plt.xlabel('Time')\n",
        "plt.ylabel('Residue')\n",
        "plt.text(100000, 18, legend, fontsize=12, color='black', va='center', ha='left')\n",
        "plt.tight_layout()\n",
        "# plt.savefig('dssp_res.eps', format='eps', bbox_inches='tight')\n",
        "plt.show()"
      ],
      "metadata": {
        "id": "ga3lLGNOZx3v"
      },
      "execution_count": null,
      "outputs": []
    },
    {
      "cell_type": "code",
      "source": [
        "#@title # RAMA\n",
        "gmx('gmx rama -f file.xtc -s file.tpr -o rama.xvg -xvg none')\n",
        "#rama\n",
        "rama= pd.read_csv('rama.xvg', delimiter='  ', names=['phi', 'psi', 'res']) # Trasforming the file in a DataFrame imposing 3 columns to it\n",
        "rama[['res', 'num']] = rama['res'].str.split('-', expand=True) # Slitting the \"res\" column to get also the \"num\" column\n",
        "rama['num'] = rama['num'].astype(int) # Forcing the values to be integer\n",
        "groups= rama.groupby('num') # Grouping by \"num\" values\n",
        "rama_4num = []\n",
        "for number_group, data in groups: # Generate a list of DataFrame one for group\n",
        "  df = pd.DataFrame(data)\n",
        "  rama_4num.append(df)\n",
        "num_plot, min, max = len(rama_4num), -180, 180 # Defining some variables\n",
        "fig, axs = plt.subplots(int(num_plot/4)+1, 4, figsize=(int(num_plot/2), num_plot))\n",
        "axs = axs.flatten() # Forcing the array on one axis\n",
        "for i, df in enumerate(rama_4num): # Scatter plot\n",
        "  ax = axs[i]\n",
        "  ax.scatter(df['phi'],df['psi'], s=10, alpha=0.25, color='black')\n",
        "  ax.set_title(f'Torsion Angles {df[\"res\"].iloc[0]}-{df[\"num\"].iloc[0]}')\n",
        "  ax.set_xlabel(df.columns[0])\n",
        "  ax.set_ylabel(df.columns[1])\n",
        "  ax.set_xlim(min, max)\n",
        "  ax.set_ylim(min, max)\n",
        "for j in range(num_plot, len(axs)): # Deleting the empty subplot\n",
        "  fig.delaxes(axs[j])\n",
        "plt.tight_layout()\n",
        "plt.savefig('rama_num.eps', format='eps', bbox_inches='tight') # Saving the plot as a vectorial image\n",
        "plt.show()\n",
        "groups_r= rama.groupby('res') # Grouping by \"res\" values\n",
        "rama_4res = []\n",
        "for number_group, data in groups_r: # Generate a list of DataFrame one for group\n",
        "  df = pd.DataFrame(data)\n",
        "  rama_4res.append(df)\n",
        "num_plot_r= len(rama_4res)\n",
        "fig, axs = plt.subplots(5, int(num_plot_r/4)+1, figsize=( num_plot_r, num_plot_r))\n",
        "axs = axs.flatten() # Forcing the array on one axis\n",
        "for i, df in enumerate(rama_4res):\n",
        "  ax = axs[i]\n",
        "  ax.scatter(df['phi'],df['psi'], s=10, alpha=0.25, color='black')\n",
        "  ax.set_title(f'Torsion Angles {df[\"res\"].iloc[0]}')\n",
        "  ax.set_xlabel(df.columns[0])\n",
        "  ax.set_ylabel(df.columns[1])\n",
        "  ax.set_xlim(min, max)\n",
        "  ax.set_ylim(min, max)\n",
        "for j in range(num_plot_r, len(axs)): # Deleting the empty subplot\n",
        "  fig.delaxes(axs[j])\n",
        "plt.tight_layout()\n",
        "plt.savefig('rama_res.eps', format='eps', bbox_inches='tight') # Saving the plot as a vectorial image\n",
        "plt.show()"
      ],
      "metadata": {
        "id": "JUfJnVeUjbQB"
      },
      "execution_count": null,
      "outputs": []
    },
    {
      "cell_type": "code",
      "source": [
        "#@title # H-bond\n",
        "#@markdown Produzione del plot ancora da ultimare\n",
        "with open('options','w') as file:\n",
        "  file.write('Protein \\n Protein \\n')\n",
        "gmx('gmx hbond -f file.xtc -s file.tpr -hx hbhelix.xvg -xvg none -tu ns < options')"
      ],
      "metadata": {
        "id": "WEtgvzspFlaN"
      },
      "execution_count": null,
      "outputs": []
    },
    {
      "cell_type": "markdown",
      "source": [
        "#Export"
      ],
      "metadata": {
        "id": "xrKX3gM_eaQD"
      }
    },
    {
      "cell_type": "code",
      "source": [
        "def pa_di(list_path):\n",
        "  '''Funzione per creare nuove cartelle all'interno del drive a partire da una lista di directory.'''\n",
        "  print(pa_di.__doc__)\n",
        "  for dir in list_path:\n",
        "    if os.path.isdir(dir) is True:\n",
        "      print('-The directory \\\"'+ dir +'\\\" is already there')\n",
        "    else:\n",
        "      os.mkdir(dir)\n",
        "      print('-The directory \\\"'+ dir +'\\\" has been created successfully')"
      ],
      "metadata": {
        "id": "jH_KlKgwiua4"
      },
      "execution_count": null,
      "outputs": []
    },
    {
      "cell_type": "code",
      "source": [
        "lst_dir= []\n",
        "#Sottodirectory per separare gli output\n",
        "path_eps, path_xvg= p1+'eps/', p1+'xvg/'\n",
        "lst_dir.append(path_eps)\n",
        "lst_dir.append(path_xvg)\n",
        "pa_di(lst_dir)"
      ],
      "metadata": {
        "id": "YjC99W9Eiyry"
      },
      "execution_count": null,
      "outputs": []
    },
    {
      "cell_type": "code",
      "source": [
        "fc_2, files_xvg, files_eps=os.listdir('/content'), os.listdir(path_xvg), os.listdir(path_eps)\n",
        "for file in fc_2:\n",
        "  if file.endswith('.xvg'):\n",
        "    if file not in files_xvg:\n",
        "      sh.copy('/content/'+ file, path_xvg)\n",
        "      print('-The file \\\"'+ file +'\\\" has been moved successfully')\n",
        "    else:\n",
        "      print('-The file \\\"'+ file +'\\\" is already there')\n",
        "  elif file.endswith('.eps'):\n",
        "    if file not in files_eps:\n",
        "      sh.copy('/content/'+ file, path_eps)\n",
        "      print('-The file \\\"'+ file +'\\\" has been moved successfully')\n",
        "    else:\n",
        "      print('-The file \\\"'+ file +'\\\" is already there')"
      ],
      "metadata": {
        "id": "ZE_RhtQtjBXE"
      },
      "execution_count": null,
      "outputs": []
    }
  ]
}
