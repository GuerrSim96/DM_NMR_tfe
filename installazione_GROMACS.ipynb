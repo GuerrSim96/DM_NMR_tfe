{
  "nbformat": 4,
  "nbformat_minor": 0,
  "metadata": {
    "colab": {
      "provenance": [],
      "include_colab_link": true
    },
    "kernelspec": {
      "name": "python3",
      "display_name": "Python 3"
    },
    "language_info": {
      "name": "python"
    }
  },
  "cells": [
    {
      "cell_type": "markdown",
      "metadata": {
        "id": "view-in-github",
        "colab_type": "text"
      },
      "source": [
        "<a href=\"https://colab.research.google.com/github/GuerrSim96/DM_NMR_tfe/blob/main/installazione_GROMACS.ipynb\" target=\"_parent\"><img src=\"https://colab.research.google.com/assets/colab-badge.svg\" alt=\"Open In Colab\"/></a>"
      ]
    },
    {
      "cell_type": "code",
      "execution_count": null,
      "metadata": {
        "id": "hEgG_o8_yGqG"
      },
      "outputs": [],
      "source": [
        "#Scaricare GROMACS 2023\n",
        "!wget http://ftp.gromacs.org/pub/gromacs/gromacs-2023.tar.gz"
      ]
    },
    {
      "cell_type": "code",
      "source": [
        "#Estrarre ed installare GROMACS 2023 (%%bash permette di passare alla shell)\n",
        "%%bash\n",
        "#Estrazione dei file contenenti nella cartella GROMACS-2023\n",
        "tar xfz gromacs-2023.tar.gz\n",
        "echo \"Estrazione di GROMACS completata!!!\" #serve per riportare la stinga come output (come la funzione print()))\n",
        "# Poi creiamo una cartella di compilazione nella cartella estratta\n",
        "cd gromacs-2023 #Accsso alla directory /gromacs-2023\n",
        "mkdir build     #Creazione della cartella /build"
      ],
      "metadata": {
        "id": "vWO1VDMryWe8"
      },
      "execution_count": null,
      "outputs": []
    },
    {
      "cell_type": "code",
      "source": [
        "%%bash\n",
        "cd gromacs-2023\n",
        "#Setup delle opzioni di installazione di GROMACS-2023, includendo GPU e una cartella specifica per l'utente\n",
        "cd build\n",
        "cmake .. -DGMX_GPU=CUDA -DGMX_BUILD_OWN_FFTW=ON -DCMAKE_INSTALL_PREFIX=/content/gromacs-2023\n",
        "echo \"Configurazione di GROMACS completata!!!\""
      ],
      "metadata": {
        "id": "P7fdBrSUzgZx"
      },
      "execution_count": null,
      "outputs": []
    },
    {
      "cell_type": "code",
      "source": [
        "%%bash\n",
        "cd gromacs-2023/build\n",
        "make\n",
        "echo \"Costruzione di GROMACS completata!!!\""
      ],
      "metadata": {
        "id": "dJhQAUl3B4wZ"
      },
      "execution_count": null,
      "outputs": []
    },
    {
      "cell_type": "code",
      "source": [
        "%%bash\n",
        "cd gromacs-2023/build\n",
        "make check\n",
        "echo \"GROMACS testing completed\""
      ],
      "metadata": {
        "id": "dgQ3qhVZ-lxz"
      },
      "execution_count": null,
      "outputs": []
    },
    {
      "cell_type": "code",
      "source": [
        "%%bash\n",
        "cd gromacs-2023/build\n",
        "make install\n",
        "echo \"GROMACS installation completed. Please check if any errors occurred during installation\""
      ],
      "metadata": {
        "id": "1wWH21UiAsET"
      },
      "execution_count": null,
      "outputs": []
    },
    {
      "cell_type": "code",
      "source": [
        "#Al fine di verificare che GROMACS sia stato installato con successo\n",
        "%%bash\n",
        "source /content/gromacs-2023/bin/GMXRC\n",
        "gmx -h"
      ],
      "metadata": {
        "id": "0zDbvzDWFtOJ"
      },
      "execution_count": null,
      "outputs": []
    },
    {
      "cell_type": "code",
      "source": [
        "#Montare il Drive di Google per poter traferire i file\n",
        "from google.colab import drive\n",
        "drive.mount('/content/drive')"
      ],
      "metadata": {
        "id": "VJxVnNmeYCu4"
      },
      "execution_count": null,
      "outputs": []
    },
    {
      "cell_type": "code",
      "source": [
        "#Copiare GROMACS compilato nel Drive\n",
        "#Creare la cartella IBM3202 in Drave  per poter copiare il programma all'interno di esso.\n",
        "import os\n",
        "import shutil\n",
        "from pathlib import Path\n",
        "IBM3202 = Path('/content/drive/My Drive/IBM3202/') #Cartella IBM3202\n",
        "if os.path.exists(IBM3202):\n",
        "  print('IBM3202 already exists')\n",
        "if not os.path.exists(IBM3202):\n",
        "  os.mkdir(IBM3202)\n",
        "  print('IBM3202 did not exists and was succesfully created')"
      ],
      "metadata": {
        "id": "m_5EtVmjYRYl"
      },
      "execution_count": null,
      "outputs": []
    },
    {
      "cell_type": "code",
      "source": [
        "#Then, we will copy the compiled GROMACS to this folder\n",
        "shutil.copytree(str('/content/gromacs-2023'), str(IBM3202/'gromacs-2023'))\n",
        "#!cp -d -r /content/gromacs-2023 \"$IBM3202\"/gromacs-2023\n",
        "print('GROMACS successfully backed up!')"
      ],
      "metadata": {
        "id": "GUuB3_PqQSeB"
      },
      "execution_count": null,
      "outputs": []
    },
    {
      "cell_type": "code",
      "source": [
        "import os\n",
        "# Give everyone all permission\n",
        "path_bin='/content/drive/MyDrive/IBM3202/gromacs-2023/bin/'\n",
        "for root, directories, files in os.walk(path_bin):\n",
        "    for dir in directories:\n",
        "        os.chmod(os.path.join(root, dir), 0o777)\n",
        "        print(f'-The {dir} permission is cahnged')\n",
        "    for f in files:\n",
        "        os.chmod(os.path.join(root, f), 0o777)\n",
        "        print(f'-The {f} permission is cahnged')"
      ],
      "metadata": {
        "id": "cKZLqw0z70s5"
      },
      "execution_count": null,
      "outputs": []
    }
  ]
}